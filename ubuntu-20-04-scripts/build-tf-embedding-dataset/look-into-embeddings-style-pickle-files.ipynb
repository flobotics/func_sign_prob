{
 "cells": [
  {
   "cell_type": "code",
   "execution_count": 1,
   "metadata": {},
   "outputs": [],
   "source": [
    "import pickle\n",
    "import os\n",
    "from datetime import datetime"
   ]
  },
  {
   "cell_type": "code",
   "execution_count": 2,
   "metadata": {},
   "outputs": [],
   "source": [
    "def get_all_pickle_filenames(pickle_file_dir):\n",
    "    files = os.listdir(pickle_file_dir)\n",
    "    tar_files = list()\n",
    "    for f in files:\n",
    "        if f.endswith(\".pickle\"):\n",
    "            tar_files.append(f)\n",
    "    \n",
    "    return tar_files"
   ]
  },
  {
   "cell_type": "code",
   "execution_count": 3,
   "metadata": {},
   "outputs": [],
   "source": [
    "def get_pickle_file_content(full_path_pickle_file):\n",
    "    pickle_file = open(full_path_pickle_file,'rb')\n",
    "    pickle_list = pickle.load(pickle_file, encoding='latin1')\n",
    "    pickle_file.close()\n",
    "    \n",
    "    return pickle_list"
   ]
  },
  {
   "cell_type": "code",
   "execution_count": 5,
   "metadata": {},
   "outputs": [
    {
     "name": "stdout",
     "output_type": "stream",
     "text": [
      "disas: [102, 377, 217, 34, 281, 217, 34, 58, 410, 357, 522, 217, 297, 431, 217, 390, 522, 217, 103, 431, 217, 298, 522, 357, 394, 217, 297, 223, 431, 217, 333, 522, 357, 394, 217, 297, 223, 431, 217, 216, 522, 357, 394, 217, 297, 223, 431, 217, 320, 522, 357, 394, 217, 297, 223, 431, 217, 106, 522, 357, 394, 217, 297, 223, 475, 217, 515, 522, 217, 515, 289, 357, 344, 217, 86, 522, 357, 394, 217, 297, 223, 344, 217, 92, 522, 357, 394, 217, 297, 223, 344, 217, 144, 522, 357, 394, 217, 297, 223, 344, 217, 191, 522, 357, 394, 217, 297, 223, 344, 217, 285, 522, 357, 394, 217, 297, 223, 344, 217, 192, 522, 357, 394, 217, 297, 223, 344, 217, 64, 522, 357, 394, 217, 297, 223, 344, 217, 87, 522, 357, 394, 217, 297, 223, 431, 217, 357, 522, 217, 34, 431, 217, 34, 522, 357, 394, 217, 297, 223, 332, 217, 473, 522, 217, 473, 431, 357, 394, 217, 353, 223, 522, 217, 390, 431, 217, 297, 522, 217, 216, 431, 217, 103, 522, 217, 333, 309, 357, 394, 217, 297, 223, 522, 217, 34, 431, 410, 357, 522, 217, 79, 303, 410, 357, 522, 394, 217, 297, 223, 431, 217, 34, 522, 357, 394, 217, 297, 223, 309, 357, 394, 217, 297, 223, 522, 217, 34, 303, 410, 357, 522, 357, 394, 217, 297, 223, 431, 217, 34, 522, 357, 394, 217, 297, 223, 200, 357, 431, 410, 357, 522, 217, 397, 200, 357]  ret-type:void\n"
     ]
    }
   ],
   "source": [
    "#### main\n",
    "start=datetime.now()\n",
    "\n",
    "embedding_styled_file_dir = \"/tmp/embtest\"\n",
    "\n",
    "all_files = get_all_pickle_filenames(embedding_styled_file_dir)\n",
    "\n",
    "for file in all_files:\n",
    "    content = get_pickle_file_content(embedding_styled_file_dir + '/' + file)\n",
    "    \n",
    "    for disas, ret_type in content:\n",
    "        print(f'disas: {disas}  ret-type:{ret_type}')\n",
    "    \n",
    "    break\n"
   ]
  },
  {
   "cell_type": "code",
   "execution_count": null,
   "metadata": {},
   "outputs": [],
   "source": []
  }
 ],
 "metadata": {
  "kernelspec": {
   "display_name": "Python 3",
   "language": "python",
   "name": "python3"
  },
  "language_info": {
   "codemirror_mode": {
    "name": "ipython",
    "version": 3
   },
   "file_extension": ".py",
   "mimetype": "text/x-python",
   "name": "python",
   "nbconvert_exporter": "python",
   "pygments_lexer": "ipython3",
   "version": "3.8.2"
  }
 },
 "nbformat": 4,
 "nbformat_minor": 4
}
