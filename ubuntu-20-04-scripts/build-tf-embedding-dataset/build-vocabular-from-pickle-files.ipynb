{
 "cells": [
  {
   "cell_type": "code",
   "execution_count": 1,
   "metadata": {},
   "outputs": [],
   "source": [
    "import pickle\n",
    "import os\n",
    "from datetime import datetime"
   ]
  },
  {
   "cell_type": "code",
   "execution_count": 2,
   "metadata": {},
   "outputs": [],
   "source": [
    "def get_pickle_file_content(full_path_pickle_file):\n",
    "    pickle_file = open(full_path_pickle_file,'rb')\n",
    "    pickle_list = pickle.load(pickle_file, encoding='latin1')\n",
    "    pickle_file.close()\n",
    "    \n",
    "    return pickle_list"
   ]
  },
  {
   "cell_type": "code",
   "execution_count": 3,
   "metadata": {},
   "outputs": [],
   "source": [
    "def get_all_pickle_filenames(pickle_file_dir):\n",
    "    files = os.listdir(pickle_file_dir)\n",
    "    tar_files = list()\n",
    "    for f in files:\n",
    "        if f.endswith(\".pickle\"):\n",
    "            tar_files.append(f)\n",
    "    \n",
    "    return tar_files"
   ]
  },
  {
   "cell_type": "code",
   "execution_count": 6,
   "metadata": {},
   "outputs": [],
   "source": [
    "def save_vocab_as_pickle(full_path_vocab_file, vocab):\n",
    "    pickle_file = open(full_path_vocab_file,'wb+')\n",
    "    pickle_list = pickle.dump(vocab, pickle_file)\n",
    "    pickle_file.close()"
   ]
  },
  {
   "cell_type": "code",
   "execution_count": 8,
   "metadata": {},
   "outputs": [],
   "source": [
    "def build_vocab_dict_from_set(vocab_set):\n",
    "    vocab_dict = dict()\n",
    "    c = 1\n",
    "    for w in vocab_set:\n",
    "        vocab_dict[w] = c\n",
    "        c += 1\n",
    "        \n",
    "    return vocab_dict"
   ]
  },
  {
   "cell_type": "code",
   "execution_count": 9,
   "metadata": {},
   "outputs": [
    {
     "name": "stdout",
     "output_type": "stream",
     "text": [
      "Run took:0:01:17.259686 Hour:Min:Sec\n",
      "{'repz', 'bsr', 'vmmcall', 'crc32l', 'ldmxcsr', 'paddb', 'testb', 'fistpl', 'fmulp', 'cvtdq2ps', 'not', 'fcmovbe', 'r13d', 'divss', 'r13w', 'cqto', 'cmpnlesd', 'orps', 'punpckhqdq', 'movapd', 'jae', 'movsq', 'setp', 'nopw', 'fmul', 'cmovl', 'movb', 'movlhps', 'si', 'xabort', 'xmm10', 'paddsw', 'popq', 'rax', 'movabs', 'fabs', 'notq', 'rolw', 'sqrtsd', 'ds:', 'pslldq', 'st', 'movupd', 'punpckhbw', 'unpckhps', 'addw', 'negl', 'bsf', 'xmm15', 'pslld', 'ebp', 'fnstcw', 'sar', 'subq', 'out', 'pause', 'divw', 'sub', 'movsw', 'fyl2xp1', 'movsbl', 'subsd', 'fstps', 'xmm6', 'mull', 'r13b', 'subpd', 'psrldq', 'setne', 'dx', 'xmm9', 'dil', 'sets', 'xorq', 'fsubs', 'jnp', 'flds', 'cvtsi2sdq', 'esi', 'pand', 'adc', 'fcomip', 'faddl', 'cmovnp', 'fcmovnbe', 'xmm0', 'xmm7', 'r12d', 'repnz', 'psrlw', 'jl', 'xmm1', 'setb', 'ucomisd', 'unpcklps', 'maxsd', 'data16', 'fstpt', 'rdrand', 'shrd', 'andb', 'endbr64', 'r10', 'fucomi', 'incq', 'r9', 'fildll', 'btcq', 'addss', 'negq', 'retq', 'mulss', 'cmovbe', 'r11b', 'ud2', 'xadd', 'pcmpgtd', 'frndint', 'filds', 'fsqrt', 'adcl', 'mfence', 'r11', 'btsq', 'shlb', 'shrw', 'xorpd', 'testq', 'punpckldq', 'pcmpgtw', 'andnpd', 'ecx', 'xgetbv', 'maxps', 'cvtsi2sd', 'prefetcht1', 'seto', 'cltq', 'jg', 'pmuludq', 'cvttss2si', 'cmove', 'maxss', 'xmm2', 'cmovo', 'r12b', 'cvtsi2sdl', 'shrl', 'andq', 'xorb', 'bp', 'fsubrp', 'punpcklqdq', 'notw', 'idivq', 'shld', 'xend', 'stmxcsr', 'negb', 'addsd', 'r10d', 'subl', 'fcomi', 'movsbw', 'r14w', 'mulpd', 'movswl', 'xorps', 'psubq', 'incl', 'seta', 'sarl', 'movss', 'rbp', 'fdivrp', 'movhpd', 'rep', 'psubsw', 'setnp', 'fyl2x', 'cld', 'cmovns', 'cvtdq2pd', 'psrld', 'fsubl', 'idivl', 'decq', 'subss', 'unpckhpd', 'psubd', 'xmm3', 'xmm5', 'cmovle', 'fldl', 'add', 'fdivs', 'r15', 'fsub', 'inc', 'callq', 'jo', 'fchs', 'pinsrw', 'pcmpeqb', 'r8w', 'punpcklwd', 'idiv', '1', 'fsubp', 'cvtsd2ss', 'movzwl', 'jne', '0', 'cvtsi2ssq', 'cmpltss', 'rcx', '%', 'r9d', 'r15d', 'minss', 'div', 'btc', ')', 'int3', 'cmpxchg16b', 'r14d', 'cvtsi2ssl', 'insb', 'cmpltsd', 'orw', 'jno', 'movsb', 'addr32', 'crc32b', 'movzbl', 'psllw', '2', 'minps', 'divsd', 'f2xm1', 'fstp', 'fmull', 'cmpnltss', 'pushq', 'pmovmskb', 'andw', 'fldl2e', 'dh', 'setle', 'fistpll', 'sete', 'cmpless', 'in', 'r14', 'movlps', 'decb', 'psllq', 'fadd', '8', 'setbe', 'fdivr', 'cmpl', 'movsbq', 'shufps', 'xmm12', 'lock', 'jle', 'outsb', 'jge', 'xmm11', 'r12', 'psubusb', 'ebx', 'movslq', 'notrack', 'punpckhdq', 'and', 'cpuid', 'xmm13', 'divpd', 'pop', 'cl', 'notl', 'lfence', 'xmm4', 'subps', 'setge', 'ax', 'je', 'pandn', 'bts', 'comiss', 'vmcall', 'pmaxub', 'movq', 'cmpw', 'rsp', 'rsi', 'orpd', 'jmp', 'addps', 'r10b', 'movl', 'scas', 'movswq', 'psrlq', 'pcmpeqw', 'andl', 'lea', 'fld1', 'prefetcht0', 'ucomiss', 'cvtss2sd', 'roll', 'movdqa', 'xchg', 'cmpnltsd', 'cvtsi2ss', 'punpcklbw', 'r8', 'mul', 'adcq', 'fxam', 'divl', 'xmm14', 'notb', 'setg', 'shrb', 'fdivp', 'jns', 'fstpl', 'xor', 'rdx', 'r11d', 'divq', 'shufpd', 'shrq', 'movhps', '4', 'cmovge', 'mulps', 'psubusw', 'ror', 'movaps', 'addq', 'jb', 'pcmpeqd', 'movups', 'sqrtss', 'cmpltpd', 'shlw', 'minsd', 'rip', 'or', 'neg', 'shlq', '0x', 'mulsd', 'cmovae', 'dl', 'maxpd', 'shr', 'cvttsd2si', 'orb', 'movsd', 'setae', 'pextrw', 'andnps', 'cmpq', 'testl', 'bt', 'sbb', 'fprem', 'paddw', 'sil', 'r12w', 'push', 'edx', 'cmpeqpd', 'por', 'addl', 'subw', 'shll', 'cmovp', 'paddd', 'crc32q', 'addb', 'fstl', 'jp', 'rdi', 'cvtss2si', 'andpd', 'dec', '(', 'cmpnless', 'sbbq', 'edi', 'xorw', 'cmovg', 'pmaxsw', 'cmpsb', 'setl', 'minpd', 'cmplesd', 'paddusb', 'movdqu', 'bl', '3', '*', '$', 'rol', 'cvttpd2dq', 'cx', 'fsubr', 'imulq', 'movsl', 'fldz', 'cltd', 'movhlps', 'xbeginq', 'orl', 'cmplepd', 'cmovs', 'leaveq', 'r9b', 'r8d', 'mulq', 'pshufd', 'unpcklpd', 'jmpq', 'mov', 'nopl', 'bx', 'divps', 'cvtpd2ps', 'ch', 'cmpneqpd', 'fdivl', 'cmovne', 'di', 'fxch', 'faddp', 'setns', 'ah', 'es:', 'fnstsw', '5', 'r11w', 'btrq', 'xorl', 'r13', 'cmpb', 'pxor', 'popcnt', 'cvtps2pd', 'ja', 'tzcnt', 'r15b', 'movlpd', 'btr', 'cmpxchg', 'fscale', 'decl', 'pcmpgtb', 'psrad', 'fildl', 'fld', 'bpl', 'xmm8', 'fcmovne', 'bswap', 'testw', 'eax', 'r8b', 'test', 'imul', 'shl', 'comisd', 'fldt', 'js', 'fdiv', 'rdtsc', 'movzbq', 'nop', 'fs:', 'rbx', 'andps', 'pshuflw', 'r15w', 'fadds', 'r14b', 'r10w', 'punpckhwd', 'r9w', 'packuswb', 'fldcw', 'incw', 'jbe', 'btq', 'paddq', 'movw', 'orq', 'sqrtpd', 'cmovb', 'cwtl', 'sbbl', 'addpd', 'fdivrl', 'sfence', 'fucomip', 'subb', 'bh', 'negw', 'fldln2', 'al', 'cmova', 'cmp', 'stos', 'movmskpd', 'syscall', 'movd', ',', 'fmuls'}\n"
     ]
    }
   ],
   "source": [
    "#### main\n",
    "start=datetime.now()\n",
    "\n",
    "bag_styled_file_dir = \"/tmp/savetest\"\n",
    "full_path_vocab_file = \"/tmp/vocab.pickle\"\n",
    "\n",
    "unique_vocab = set()\n",
    "\n",
    "all_files = get_all_pickle_filenames(bag_styled_file_dir)\n",
    "\n",
    "\n",
    "for file in all_files:\n",
    "    content = get_pickle_file_content(bag_styled_file_dir + '/' + file)\n",
    "    for disas,ret_type in content:\n",
    "        for disas_item in disas:\n",
    "            #print(f'disas_item:{disas_item}')\n",
    "            unique_vocab.add(disas_item)\n",
    "            \n",
    "    #break\n",
    "    \n",
    "stop = datetime.now()\n",
    "print(f'Run took:{stop-start} Hour:Min:Sec')\n",
    "\n",
    "vocab_dict = build_vocab_dict_from_set(unique_vocab)\n",
    "save_vocab_as_pickle(full_path_vocab_file, vocab_dict)\n",
    "\n",
    "print(unique_vocab)"
   ]
  },
  {
   "cell_type": "code",
   "execution_count": 5,
   "metadata": {},
   "outputs": [
    {
     "name": "stdout",
     "output_type": "stream",
     "text": [
      "523\n"
     ]
    }
   ],
   "source": [
    "print(len(unique_vocab))"
   ]
  },
  {
   "cell_type": "code",
   "execution_count": null,
   "metadata": {},
   "outputs": [],
   "source": []
  }
 ],
 "metadata": {
  "kernelspec": {
   "display_name": "Python 3",
   "language": "python",
   "name": "python3"
  },
  "language_info": {
   "codemirror_mode": {
    "name": "ipython",
    "version": 3
   },
   "file_extension": ".py",
   "mimetype": "text/x-python",
   "name": "python",
   "nbconvert_exporter": "python",
   "pygments_lexer": "ipython3",
   "version": "3.8.2"
  }
 },
 "nbformat": 4,
 "nbformat_minor": 4
}
