{
 "cells": [
  {
   "cell_type": "code",
   "execution_count": 1,
   "metadata": {},
   "outputs": [],
   "source": [
    "import pickle\n",
    "import os\n",
    "import tarfile"
   ]
  },
  {
   "cell_type": "code",
   "execution_count": 2,
   "metadata": {},
   "outputs": [],
   "source": [
    "def get_all_pickle_filenames(tar_file_dir):\n",
    "    files = os.listdir(tar_file_dir)\n",
    "    tar_files = list()\n",
    "    for f in files:\n",
    "        if f.endswith(\".pickle\"):\n",
    "            tar_files.append(f)\n",
    "    \n",
    "    return tar_files"
   ]
  },
  {
   "cell_type": "code",
   "execution_count": 3,
   "metadata": {},
   "outputs": [],
   "source": [
    "def get_pickle_file_content(full_path_pickle_file):\n",
    "    pickle_file = open(full_path_pickle_file,'rb')\n",
    "    pickle_list = pickle.load(pickle_file, encoding='latin1')\n",
    "    pickle_file.close()\n",
    "    \n",
    "    return pickle_list"
   ]
  },
  {
   "cell_type": "code",
   "execution_count": 4,
   "metadata": {},
   "outputs": [],
   "source": [
    "def save_new_pickle(full_path_pickle_file, pickle_content):\n",
    "    pickle_file = open(full_path_pickle_file,'wb+')\n",
    "    pickle.dump(pickle_content, pickle_file)\n",
    "    pickle_file.close()"
   ]
  },
  {
   "cell_type": "code",
   "execution_count": 8,
   "metadata": {},
   "outputs": [],
   "source": [
    "### main\n",
    "tar_file_dir = \"/tmp/embbuild\"\n",
    "all_files = get_all_pickle_filenames(tar_file_dir)\n",
    "\n",
    "all_ds = list()\n",
    "\n",
    "for file in all_files:\n",
    "    content = get_pickle_file_content(tar_file_dir + '/' + file)\n",
    "    all_ds.append(content)\n",
    "    \n",
    "save_new_pickle(\"/tmp/embstoredir/full_dataset_att_int_seq.pickle\", all_ds)\n",
    "    "
   ]
  },
  {
   "cell_type": "code",
   "execution_count": null,
   "metadata": {},
   "outputs": [],
   "source": []
  }
 ],
 "metadata": {
  "kernelspec": {
   "display_name": "Python 3",
   "language": "python",
   "name": "python3"
  },
  "language_info": {
   "codemirror_mode": {
    "name": "ipython",
    "version": 3
   },
   "file_extension": ".py",
   "mimetype": "text/x-python",
   "name": "python",
   "nbconvert_exporter": "python",
   "pygments_lexer": "ipython3",
   "version": "3.8.2"
  }
 },
 "nbformat": 4,
 "nbformat_minor": 4
}
