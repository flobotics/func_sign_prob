{
 "cells": [
  {
   "cell_type": "code",
   "execution_count": 1,
   "metadata": {},
   "outputs": [],
   "source": [
    "import subprocess\n",
    "import os\n",
    "#import tensorflow as tf\n",
    "#from tensorflow import keras\n",
    "#from tensorflow.keras.preprocessing.text import Tokenizer\n",
    "import pickle"
   ]
  },
  {
   "cell_type": "code",
   "execution_count": 5,
   "metadata": {},
   "outputs": [
    {
     "name": "stdout",
     "output_type": "stream",
     "text": [
      "func-signature:int build(osg::ArgumentParser&);\n",
      "func-return-type:type = int\n",
      "func-name:build\n",
      "func-filename:osgearth_atlas.cpp\n",
      "func-disassembly-att:0x0000000000008870 <+0>:\tendbr64 \n",
      "func-disassembly-att:0x0000000000008874 <+4>:\tpush   %rbp\n",
      "func-disassembly-att:0x0000000000008875 <+5>:\tmov    $0x6c69,%r10d\n",
      "func-disassembly-att:0x000000000000887b <+11>:\tmov    %rsp,%rbp\n",
      "func-disassembly-intel:0x0000000000008870 <+0>:\tendbr64 \n",
      "ubuntu-package-name:osgearth\n",
      "ubuntu-package-binary:/usr/bin/osgearth_atlas\n",
      "----------\n",
      "func-signature:int main(int, char**);\n",
      "func-return-type:type = int\n",
      "func-name:main\n",
      "func-filename:osgearth_atlas.cpp\n",
      "func-disassembly-att:0x0000000000008220 <+0>:\tendbr64 \n",
      "func-disassembly-att:0x0000000000008224 <+4>:\tpush   %r14\n",
      "func-disassembly-att:0x0000000000008226 <+6>:\tpush   %r13\n",
      "func-disassembly-att:0x0000000000008228 <+8>:\tpush   %r12\n",
      "func-disassembly-intel:0x0000000000008220 <+0>:\tendbr64 \n",
      "ubuntu-package-name:osgearth\n",
      "ubuntu-package-binary:/usr/bin/osgearth_atlas\n",
      "----------\n",
      "func-signature:int show(osg::ArgumentParser&);\n",
      "func-return-type:type = int\n",
      "func-name:show\n",
      "func-filename:osgearth_atlas.cpp\n",
      "func-disassembly-att:0x000000000000a010 <+0>:\tendbr64 \n",
      "func-disassembly-att:0x000000000000a014 <+4>:\tpush   %r15\n",
      "func-disassembly-att:0x000000000000a016 <+6>:\tmov    $0x776f,%r8d\n",
      "func-disassembly-att:0x000000000000a01c <+12>:\tpush   %r14\n",
      "func-disassembly-intel:0x000000000000a010 <+0>:\tendbr64 \n",
      "ubuntu-package-name:osgearth\n",
      "ubuntu-package-binary:/usr/bin/osgearth_atlas\n",
      "----------\n",
      "func-signature:int usage(char const*, char const*);\n",
      "func-return-type:type = int\n",
      "func-name:usage\n",
      "func-filename:osgearth_atlas.cpp\n",
      "func-disassembly-att:0x0000000000008530 <+0>:\tendbr64 \n",
      "func-disassembly-att:0x0000000000008534 <+4>:\tpush   %r13\n",
      "func-disassembly-att:0x0000000000008536 <+6>:\tpush   %r12\n",
      "func-disassembly-att:0x0000000000008538 <+8>:\tmov    %rsi,%r12\n",
      "func-disassembly-intel:0x0000000000008530 <+0>:\tendbr64 \n",
      "ubuntu-package-name:osgearth\n",
      "ubuntu-package-binary:/usr/bin/osgearth_atlas\n",
      "----------\n",
      "func-signature:void osgEarth::URI::~URI();\n",
      "func-return-type:type = void\n",
      "func-name:osgEarth::URI::~URI\n",
      "func-filename:URI\n"
     ]
    },
    {
     "ename": "IndexError",
     "evalue": "list index out of range",
     "output_type": "error",
     "traceback": [
      "\u001b[0;31m---------------------------------------------------------------------------\u001b[0m",
      "\u001b[0;31mIndexError\u001b[0m                                Traceback (most recent call last)",
      "\u001b[0;32m<ipython-input-5-a885bfc4f327>\u001b[0m in \u001b[0;36m<module>\u001b[0;34m\u001b[0m\n\u001b[1;32m     14\u001b[0m         \u001b[0mprint\u001b[0m\u001b[0;34m(\u001b[0m\u001b[0;34mf'func-disassembly-att:{elem[4][2]}'\u001b[0m\u001b[0;34m)\u001b[0m\u001b[0;34m\u001b[0m\u001b[0;34m\u001b[0m\u001b[0m\n\u001b[1;32m     15\u001b[0m         \u001b[0mprint\u001b[0m\u001b[0;34m(\u001b[0m\u001b[0;34mf'func-disassembly-att:{elem[4][3]}'\u001b[0m\u001b[0;34m)\u001b[0m\u001b[0;34m\u001b[0m\u001b[0;34m\u001b[0m\u001b[0m\n\u001b[0;32m---> 16\u001b[0;31m     \u001b[0mprint\u001b[0m\u001b[0;34m(\u001b[0m\u001b[0;34mf'func-disassembly-intel:{elem[5][0]}'\u001b[0m\u001b[0;34m)\u001b[0m\u001b[0;34m\u001b[0m\u001b[0;34m\u001b[0m\u001b[0m\n\u001b[0m\u001b[1;32m     17\u001b[0m     \u001b[0mprint\u001b[0m\u001b[0;34m(\u001b[0m\u001b[0;34mf'ubuntu-package-name:{elem[6]}'\u001b[0m\u001b[0;34m)\u001b[0m\u001b[0;34m\u001b[0m\u001b[0;34m\u001b[0m\u001b[0m\n\u001b[1;32m     18\u001b[0m     \u001b[0mprint\u001b[0m\u001b[0;34m(\u001b[0m\u001b[0;34mf'ubuntu-package-binary:{elem[7]}'\u001b[0m\u001b[0;34m)\u001b[0m\u001b[0;34m\u001b[0m\u001b[0;34m\u001b[0m\u001b[0m\n",
      "\u001b[0;31mIndexError\u001b[0m: list index out of range"
     ]
    }
   ],
   "source": [
    "with open('/tmp/test/osgearth.pickle', 'rb') as f:\n",
    "    loaded_obj = pickle.load(f)\n",
    "\n",
    "#print(f'loaded_obj is {loaded_obj}')\n",
    "\n",
    "for elem in loaded_obj:\n",
    "    print(f'func-signature:{elem[0]}')\n",
    "    print(f'func-return-type:{elem[1]}')\n",
    "    print(f'func-name:{elem[2]}')\n",
    "    print(f'func-filename:{elem[3]}')\n",
    "    if elem[4]:\n",
    "        print(f'func-disassembly-att:{elem[4][0]}')\n",
    "        print(f'func-disassembly-att:{elem[4][1]}')\n",
    "        print(f'func-disassembly-att:{elem[4][2]}')\n",
    "        print(f'func-disassembly-att:{elem[4][3]}')\n",
    "    print(f'func-disassembly-intel:{elem[5][0]}')\n",
    "    print(f'ubuntu-package-name:{elem[6]}')\n",
    "    print(f'ubuntu-package-binary:{elem[7]}')\n",
    "    print(\"----------\")\n",
    "    \n",
    "\n"
   ]
  },
  {
   "cell_type": "code",
   "execution_count": 13,
   "metadata": {},
   "outputs": [
    {
     "name": "stdout",
     "output_type": "stream",
     "text": [
      "0x000000000000ed12 <+2>:\tmov    $0x2,%ecx\n"
     ]
    }
   ],
   "source": [
    "with open('../ubuntu-20-04-pickles/tree.pickle', 'rb') as f:\n",
    "    loaded_obj = pickle.load(f)\n",
    "\n",
    "#print(f'loaded_obj is {loaded_obj}')\n",
    "\n",
    "one = next(iter(loaded_obj))\n",
    "\n",
    "print(one[4][1])\n",
    "\n"
   ]
  },
  {
   "cell_type": "code",
   "execution_count": 3,
   "metadata": {},
   "outputs": [
    {
     "name": "stdout",
     "output_type": "stream",
     "text": [
      "funclist:aaa\n",
      "funclist:bbbb\n"
     ]
    }
   ],
   "source": []
  },
  {
   "cell_type": "code",
   "execution_count": null,
   "metadata": {},
   "outputs": [],
   "source": []
  }
 ],
 "metadata": {
  "kernelspec": {
   "display_name": "Python 3",
   "language": "python",
   "name": "python3"
  },
  "language_info": {
   "codemirror_mode": {
    "name": "ipython",
    "version": 3
   },
   "file_extension": ".py",
   "mimetype": "text/x-python",
   "name": "python",
   "nbconvert_exporter": "python",
   "pygments_lexer": "ipython3",
   "version": "3.8.2"
  }
 },
 "nbformat": 4,
 "nbformat_minor": 4
}
